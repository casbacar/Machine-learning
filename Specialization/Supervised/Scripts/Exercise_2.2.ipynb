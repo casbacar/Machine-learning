{
 "cells": [
  {
   "cell_type": "code",
   "execution_count": 15,
   "id": "d569e3ab-2257-42fb-8242-7a32b076fbf4",
   "metadata": {},
   "outputs": [],
   "source": [
    "import pandas as pd\n",
    "import numpy as np\n",
    "import seaborn as sns\n",
    "import os\n",
    "import operator\n",
    "import matplotlib.pyplot as plt\n",
    "import tensorflow as tf\n",
    "from numpy import unique\n",
    "from keras.models import Sequential\n",
    "from keras.layers import LSTM\n",
    "from tensorflow.keras.layers import Dense, Dropout\n",
    "from sklearn.model_selection import train_test_split\n"
   ]
  },
  {
   "cell_type": "code",
   "execution_count": 16,
   "id": "c4c52b0b-826a-47fe-9f3a-152b6a760d85",
   "metadata": {},
   "outputs": [],
   "source": [
    "# Importing the data\n",
    "df_answers = pd.read_csv(r'C:\\Users\\casbacar\\Documents\\Study\\Specialization\\Supervised marchine learning\\Dataset-Answers-Weather_Prediction_Pleasant_Weather.csv')\n",
    "df_unscaled = pd.read_csv(r'C:\\Users\\casbacar\\Documents\\Study\\Specialization\\Data Sets\\Dataset-weather-prediction-dataset-processed.csv')"
   ]
  },
  {
   "cell_type": "code",
   "execution_count": 17,
   "id": "c92dfd0f-f4ae-42e1-8a86-d6ebc0f17475",
   "metadata": {},
   "outputs": [],
   "source": [
    "# For our analysis we'll proceed with an RNN model because its better at handling tempoeral data and predicting future events based on past data"
   ]
  },
  {
   "cell_type": "code",
   "execution_count": 18,
   "id": "b73b8155-98d9-4bc0-b05e-fe17a7905622",
   "metadata": {},
   "outputs": [],
   "source": [
    "# For the pleasant weather dataset, we drop the DATE column \n",
    "answers = df_answers.drop(['DATE'],axis=1)"
   ]
  },
  {
   "cell_type": "code",
   "execution_count": 19,
   "id": "e92a297b-0ac8-4b58-ad78-e566caf8abfc",
   "metadata": {},
   "outputs": [
    {
     "data": {
      "text/plain": [
       "(22950, 170)"
      ]
     },
     "execution_count": 19,
     "metadata": {},
     "output_type": "execute_result"
    }
   ],
   "source": [
    "df_unscaled.shape"
   ]
  },
  {
   "cell_type": "code",
   "execution_count": 44,
   "id": "160e5b85-3cf6-4029-b4ac-08f80eee78fa",
   "metadata": {},
   "outputs": [],
   "source": [
    "# We need to remove some observations missing data\n",
    "\n",
    "unscaled_c = df_unscaled.drop(columns=['GDANSK_cloud_cover',\n",
    "                                      'GDANSK_humidity',\n",
    "                                      'GDANSK_precipitation',\n",
    "                                      'GDANSK_snow_depth',\n",
    "                                      'GDANSK_temp_mean',\n",
    "                                      'GDANSK_temp_min',\n",
    "                                      'GDANSK_temp_max',\n",
    "                                      'ROMA_cloud_cover',\n",
    "                                      'ROMA_wind_speed',\n",
    "                                      'ROMA_humidity',\n",
    "                                      'ROMA_pressure',\n",
    "                                      'ROMA_sunshine',\n",
    "                                      'ROMA_temp_mean',\n",
    "                                      'TOURS_wind_speed',\n",
    "                                      'TOURS_humidity',\n",
    "                                      'TOURS_pressure',\n",
    "                                      'TOURS_global_radiation',\n",
    "                                      'TOURS_precipitation',\n",
    "                                      'TOURS_temp_mean',\n",
    "                                      'TOURS_temp_min',\n",
    "                                      'TOURS_temp_max',\n",
    "                                      'BASEL_precipitation',\n",
    "                                      'BASEL_snow_depth',\n",
    "                                      'DUSSELDORF_precipitation',\n",
    "                                      'DUSSELDORF_snow_depth',\n",
    "                                      'HEATHROW_precipitation',\n",
    "                                      'HEATHROW_snow_depth',\n",
    "                                      'MUNCHENB_precipitation',\n",
    "                                      'MUNCHENB_snow_depth',\n",
    "                                      'OSLO_precipitation',\n",
    "                                      'OSLO_snow_depth',\n",
    "                                      'VALENTIA_precipitation',\n",
    "                                      'VALENTIA_snow_depth','STOCKHOLM_sunshine','STOCKHOLM_precipitation'])\n"
   ]
  },
  {
   "cell_type": "code",
   "execution_count": 21,
   "id": "c3740957-6ba0-4d8c-8713-431b9f077562",
   "metadata": {},
   "outputs": [],
   "source": [
    "weather = {\n",
    "    0: 'sunny',\n",
    "    1: 'rainy',\n",
    "    2: 'cloudy',\n",
    "    3: 'snowy'\n",
    "}"
   ]
  },
  {
   "cell_type": "code",
   "execution_count": 22,
   "id": "1c11a52b-f0c2-4b44-82ad-0cdd20a476d9",
   "metadata": {},
   "outputs": [],
   "source": [
    "weather_labels = [\n",
    "    'BASEL_pleasant_weather', 'BELGRADE_pleasant_weather',\n",
    "    'BUDAPEST_pleasant_weather', 'DEBILT_pleasant_weather',\n",
    "    'DUSSELDORF_pleasant_weather', 'HEATHROW_pleasant_weather',\n",
    "    'KASSEL_pleasant_weather', 'LJUBLJANA_pleasant_weather',\n",
    "    'MAASTRICHT_pleasant_weather', 'MADRID_pleasant_weather',\n",
    "    'MUNCHENB_pleasant_weather', 'OSLO_pleasant_weather',\n",
    "    'SONNBLICK_pleasant_weather', 'STOCKHOLM_pleasant_weather',\n",
    "    'VALENTIA_pleasant_weather'\n",
    "]\n",
    "\n",
    "# Create the dictionary\n",
    "weather = {i: label for i, label in enumerate(weather_labels)}"
   ]
  },
  {
   "cell_type": "code",
   "execution_count": 45,
   "id": "3c989f26-80d4-4514-8c8c-f677c4f77373",
   "metadata": {},
   "outputs": [
    {
     "data": {
      "text/plain": [
       "(22950, 135)"
      ]
     },
     "execution_count": 45,
     "metadata": {},
     "output_type": "execute_result"
    }
   ],
   "source": [
    "unscaled_c.shape"
   ]
  },
  {
   "cell_type": "code",
   "execution_count": 24,
   "id": "482cd5de-5bf2-4ae5-84ac-cda1456c7fbc",
   "metadata": {},
   "outputs": [
    {
     "data": {
      "text/plain": [
       "(22950, 15)"
      ]
     },
     "execution_count": 24,
     "metadata": {},
     "output_type": "execute_result"
    }
   ],
   "source": [
    "answers.shape"
   ]
  },
  {
   "cell_type": "code",
   "execution_count": 36,
   "id": "a2392e4a-b247-4601-a521-32b29633f092",
   "metadata": {},
   "outputs": [
    {
     "data": {
      "text/html": [
       "<div>\n",
       "<style scoped>\n",
       "    .dataframe tbody tr th:only-of-type {\n",
       "        vertical-align: middle;\n",
       "    }\n",
       "\n",
       "    .dataframe tbody tr th {\n",
       "        vertical-align: top;\n",
       "    }\n",
       "\n",
       "    .dataframe thead th {\n",
       "        text-align: right;\n",
       "    }\n",
       "</style>\n",
       "<table border=\"1\" class=\"dataframe\">\n",
       "  <thead>\n",
       "    <tr style=\"text-align: right;\">\n",
       "      <th></th>\n",
       "      <th>BASEL_cloud_cover</th>\n",
       "      <th>BASEL_wind_speed</th>\n",
       "      <th>BASEL_humidity</th>\n",
       "      <th>BASEL_pressure</th>\n",
       "      <th>BASEL_global_radiation</th>\n",
       "      <th>BASEL_sunshine</th>\n",
       "      <th>BASEL_temp_mean</th>\n",
       "      <th>BASEL_temp_min</th>\n",
       "      <th>BASEL_temp_max</th>\n",
       "      <th>BELGRADE_cloud_cover</th>\n",
       "      <th>...</th>\n",
       "      <th>STOCKHOLM_temp_min</th>\n",
       "      <th>STOCKHOLM_temp_max</th>\n",
       "      <th>VALENTIA_cloud_cover</th>\n",
       "      <th>VALENTIA_humidity</th>\n",
       "      <th>VALENTIA_pressure</th>\n",
       "      <th>VALENTIA_global_radiation</th>\n",
       "      <th>VALENTIA_sunshine</th>\n",
       "      <th>VALENTIA_temp_mean</th>\n",
       "      <th>VALENTIA_temp_min</th>\n",
       "      <th>VALENTIA_temp_max</th>\n",
       "    </tr>\n",
       "  </thead>\n",
       "  <tbody>\n",
       "    <tr>\n",
       "      <th>0</th>\n",
       "      <td>7</td>\n",
       "      <td>2.1</td>\n",
       "      <td>0.85</td>\n",
       "      <td>1.018</td>\n",
       "      <td>0.32</td>\n",
       "      <td>0.7</td>\n",
       "      <td>6.5</td>\n",
       "      <td>0.8</td>\n",
       "      <td>10.9</td>\n",
       "      <td>1</td>\n",
       "      <td>...</td>\n",
       "      <td>2.2</td>\n",
       "      <td>4.9</td>\n",
       "      <td>5</td>\n",
       "      <td>0.88</td>\n",
       "      <td>1.0003</td>\n",
       "      <td>0.45</td>\n",
       "      <td>4.7</td>\n",
       "      <td>8.5</td>\n",
       "      <td>6.0</td>\n",
       "      <td>10.9</td>\n",
       "    </tr>\n",
       "    <tr>\n",
       "      <th>1</th>\n",
       "      <td>6</td>\n",
       "      <td>2.1</td>\n",
       "      <td>0.84</td>\n",
       "      <td>1.018</td>\n",
       "      <td>0.36</td>\n",
       "      <td>1.1</td>\n",
       "      <td>6.1</td>\n",
       "      <td>3.3</td>\n",
       "      <td>10.1</td>\n",
       "      <td>6</td>\n",
       "      <td>...</td>\n",
       "      <td>3.0</td>\n",
       "      <td>5.0</td>\n",
       "      <td>7</td>\n",
       "      <td>0.91</td>\n",
       "      <td>1.0007</td>\n",
       "      <td>0.25</td>\n",
       "      <td>0.7</td>\n",
       "      <td>8.9</td>\n",
       "      <td>5.6</td>\n",
       "      <td>12.1</td>\n",
       "    </tr>\n",
       "    <tr>\n",
       "      <th>2</th>\n",
       "      <td>8</td>\n",
       "      <td>2.1</td>\n",
       "      <td>0.90</td>\n",
       "      <td>1.018</td>\n",
       "      <td>0.18</td>\n",
       "      <td>0.0</td>\n",
       "      <td>8.5</td>\n",
       "      <td>5.1</td>\n",
       "      <td>9.9</td>\n",
       "      <td>6</td>\n",
       "      <td>...</td>\n",
       "      <td>1.3</td>\n",
       "      <td>4.1</td>\n",
       "      <td>7</td>\n",
       "      <td>0.91</td>\n",
       "      <td>1.0096</td>\n",
       "      <td>0.17</td>\n",
       "      <td>0.1</td>\n",
       "      <td>10.5</td>\n",
       "      <td>8.1</td>\n",
       "      <td>12.9</td>\n",
       "    </tr>\n",
       "    <tr>\n",
       "      <th>3</th>\n",
       "      <td>3</td>\n",
       "      <td>2.1</td>\n",
       "      <td>0.92</td>\n",
       "      <td>1.018</td>\n",
       "      <td>0.58</td>\n",
       "      <td>4.1</td>\n",
       "      <td>6.3</td>\n",
       "      <td>3.8</td>\n",
       "      <td>10.6</td>\n",
       "      <td>8</td>\n",
       "      <td>...</td>\n",
       "      <td>0.4</td>\n",
       "      <td>2.3</td>\n",
       "      <td>7</td>\n",
       "      <td>0.86</td>\n",
       "      <td>1.0184</td>\n",
       "      <td>0.13</td>\n",
       "      <td>0.0</td>\n",
       "      <td>7.4</td>\n",
       "      <td>7.3</td>\n",
       "      <td>10.6</td>\n",
       "    </tr>\n",
       "    <tr>\n",
       "      <th>4</th>\n",
       "      <td>6</td>\n",
       "      <td>2.1</td>\n",
       "      <td>0.95</td>\n",
       "      <td>1.018</td>\n",
       "      <td>0.65</td>\n",
       "      <td>5.4</td>\n",
       "      <td>3.0</td>\n",
       "      <td>-0.7</td>\n",
       "      <td>6.0</td>\n",
       "      <td>8</td>\n",
       "      <td>...</td>\n",
       "      <td>0.8</td>\n",
       "      <td>4.3</td>\n",
       "      <td>3</td>\n",
       "      <td>0.80</td>\n",
       "      <td>1.0328</td>\n",
       "      <td>0.46</td>\n",
       "      <td>5.7</td>\n",
       "      <td>5.7</td>\n",
       "      <td>3.0</td>\n",
       "      <td>8.4</td>\n",
       "    </tr>\n",
       "  </tbody>\n",
       "</table>\n",
       "<p>5 rows × 133 columns</p>\n",
       "</div>"
      ],
      "text/plain": [
       "   BASEL_cloud_cover  BASEL_wind_speed  BASEL_humidity  BASEL_pressure  \\\n",
       "0                  7               2.1            0.85           1.018   \n",
       "1                  6               2.1            0.84           1.018   \n",
       "2                  8               2.1            0.90           1.018   \n",
       "3                  3               2.1            0.92           1.018   \n",
       "4                  6               2.1            0.95           1.018   \n",
       "\n",
       "   BASEL_global_radiation  BASEL_sunshine  BASEL_temp_mean  BASEL_temp_min  \\\n",
       "0                    0.32             0.7              6.5             0.8   \n",
       "1                    0.36             1.1              6.1             3.3   \n",
       "2                    0.18             0.0              8.5             5.1   \n",
       "3                    0.58             4.1              6.3             3.8   \n",
       "4                    0.65             5.4              3.0            -0.7   \n",
       "\n",
       "   BASEL_temp_max  BELGRADE_cloud_cover  ...  STOCKHOLM_temp_min  \\\n",
       "0            10.9                     1  ...                 2.2   \n",
       "1            10.1                     6  ...                 3.0   \n",
       "2             9.9                     6  ...                 1.3   \n",
       "3            10.6                     8  ...                 0.4   \n",
       "4             6.0                     8  ...                 0.8   \n",
       "\n",
       "   STOCKHOLM_temp_max  VALENTIA_cloud_cover  VALENTIA_humidity  \\\n",
       "0                 4.9                     5               0.88   \n",
       "1                 5.0                     7               0.91   \n",
       "2                 4.1                     7               0.91   \n",
       "3                 2.3                     7               0.86   \n",
       "4                 4.3                     3               0.80   \n",
       "\n",
       "   VALENTIA_pressure  VALENTIA_global_radiation  VALENTIA_sunshine  \\\n",
       "0             1.0003                       0.45                4.7   \n",
       "1             1.0007                       0.25                0.7   \n",
       "2             1.0096                       0.17                0.1   \n",
       "3             1.0184                       0.13                0.0   \n",
       "4             1.0328                       0.46                5.7   \n",
       "\n",
       "   VALENTIA_temp_mean  VALENTIA_temp_min  VALENTIA_temp_max  \n",
       "0                 8.5                6.0               10.9  \n",
       "1                 8.9                5.6               12.1  \n",
       "2                10.5                8.1               12.9  \n",
       "3                 7.4                7.3               10.6  \n",
       "4                 5.7                3.0                8.4  \n",
       "\n",
       "[5 rows x 133 columns]"
      ]
     },
     "execution_count": 36,
     "metadata": {},
     "output_type": "execute_result"
    }
   ],
   "source": [
    "unscaled_c.head()"
   ]
  },
  {
   "cell_type": "code",
   "execution_count": 37,
   "id": "f29a55bc-a813-46a9-93ce-ef7cdbd196fe",
   "metadata": {},
   "outputs": [
    {
     "data": {
      "text/html": [
       "<div>\n",
       "<style scoped>\n",
       "    .dataframe tbody tr th:only-of-type {\n",
       "        vertical-align: middle;\n",
       "    }\n",
       "\n",
       "    .dataframe tbody tr th {\n",
       "        vertical-align: top;\n",
       "    }\n",
       "\n",
       "    .dataframe thead th {\n",
       "        text-align: right;\n",
       "    }\n",
       "</style>\n",
       "<table border=\"1\" class=\"dataframe\">\n",
       "  <thead>\n",
       "    <tr style=\"text-align: right;\">\n",
       "      <th></th>\n",
       "      <th>BASEL_pleasant_weather</th>\n",
       "      <th>BELGRADE_pleasant_weather</th>\n",
       "      <th>BUDAPEST_pleasant_weather</th>\n",
       "      <th>DEBILT_pleasant_weather</th>\n",
       "      <th>DUSSELDORF_pleasant_weather</th>\n",
       "      <th>HEATHROW_pleasant_weather</th>\n",
       "      <th>KASSEL_pleasant_weather</th>\n",
       "      <th>LJUBLJANA_pleasant_weather</th>\n",
       "      <th>MAASTRICHT_pleasant_weather</th>\n",
       "      <th>MADRID_pleasant_weather</th>\n",
       "      <th>MUNCHENB_pleasant_weather</th>\n",
       "      <th>OSLO_pleasant_weather</th>\n",
       "      <th>SONNBLICK_pleasant_weather</th>\n",
       "      <th>STOCKHOLM_pleasant_weather</th>\n",
       "      <th>VALENTIA_pleasant_weather</th>\n",
       "    </tr>\n",
       "  </thead>\n",
       "  <tbody>\n",
       "    <tr>\n",
       "      <th>0</th>\n",
       "      <td>0</td>\n",
       "      <td>0</td>\n",
       "      <td>0</td>\n",
       "      <td>0</td>\n",
       "      <td>0</td>\n",
       "      <td>0</td>\n",
       "      <td>0</td>\n",
       "      <td>0</td>\n",
       "      <td>0</td>\n",
       "      <td>0</td>\n",
       "      <td>0</td>\n",
       "      <td>0</td>\n",
       "      <td>0</td>\n",
       "      <td>0</td>\n",
       "      <td>0</td>\n",
       "    </tr>\n",
       "    <tr>\n",
       "      <th>1</th>\n",
       "      <td>0</td>\n",
       "      <td>0</td>\n",
       "      <td>0</td>\n",
       "      <td>0</td>\n",
       "      <td>0</td>\n",
       "      <td>0</td>\n",
       "      <td>0</td>\n",
       "      <td>0</td>\n",
       "      <td>0</td>\n",
       "      <td>0</td>\n",
       "      <td>0</td>\n",
       "      <td>0</td>\n",
       "      <td>0</td>\n",
       "      <td>0</td>\n",
       "      <td>0</td>\n",
       "    </tr>\n",
       "    <tr>\n",
       "      <th>2</th>\n",
       "      <td>0</td>\n",
       "      <td>0</td>\n",
       "      <td>0</td>\n",
       "      <td>0</td>\n",
       "      <td>0</td>\n",
       "      <td>0</td>\n",
       "      <td>0</td>\n",
       "      <td>0</td>\n",
       "      <td>0</td>\n",
       "      <td>0</td>\n",
       "      <td>0</td>\n",
       "      <td>0</td>\n",
       "      <td>0</td>\n",
       "      <td>0</td>\n",
       "      <td>0</td>\n",
       "    </tr>\n",
       "    <tr>\n",
       "      <th>3</th>\n",
       "      <td>0</td>\n",
       "      <td>0</td>\n",
       "      <td>0</td>\n",
       "      <td>0</td>\n",
       "      <td>0</td>\n",
       "      <td>0</td>\n",
       "      <td>0</td>\n",
       "      <td>0</td>\n",
       "      <td>0</td>\n",
       "      <td>0</td>\n",
       "      <td>0</td>\n",
       "      <td>0</td>\n",
       "      <td>0</td>\n",
       "      <td>0</td>\n",
       "      <td>0</td>\n",
       "    </tr>\n",
       "    <tr>\n",
       "      <th>4</th>\n",
       "      <td>0</td>\n",
       "      <td>0</td>\n",
       "      <td>0</td>\n",
       "      <td>0</td>\n",
       "      <td>0</td>\n",
       "      <td>0</td>\n",
       "      <td>0</td>\n",
       "      <td>0</td>\n",
       "      <td>0</td>\n",
       "      <td>0</td>\n",
       "      <td>0</td>\n",
       "      <td>0</td>\n",
       "      <td>0</td>\n",
       "      <td>0</td>\n",
       "      <td>0</td>\n",
       "    </tr>\n",
       "  </tbody>\n",
       "</table>\n",
       "</div>"
      ],
      "text/plain": [
       "   BASEL_pleasant_weather  BELGRADE_pleasant_weather  \\\n",
       "0                       0                          0   \n",
       "1                       0                          0   \n",
       "2                       0                          0   \n",
       "3                       0                          0   \n",
       "4                       0                          0   \n",
       "\n",
       "   BUDAPEST_pleasant_weather  DEBILT_pleasant_weather  \\\n",
       "0                          0                        0   \n",
       "1                          0                        0   \n",
       "2                          0                        0   \n",
       "3                          0                        0   \n",
       "4                          0                        0   \n",
       "\n",
       "   DUSSELDORF_pleasant_weather  HEATHROW_pleasant_weather  \\\n",
       "0                            0                          0   \n",
       "1                            0                          0   \n",
       "2                            0                          0   \n",
       "3                            0                          0   \n",
       "4                            0                          0   \n",
       "\n",
       "   KASSEL_pleasant_weather  LJUBLJANA_pleasant_weather  \\\n",
       "0                        0                           0   \n",
       "1                        0                           0   \n",
       "2                        0                           0   \n",
       "3                        0                           0   \n",
       "4                        0                           0   \n",
       "\n",
       "   MAASTRICHT_pleasant_weather  MADRID_pleasant_weather  \\\n",
       "0                            0                        0   \n",
       "1                            0                        0   \n",
       "2                            0                        0   \n",
       "3                            0                        0   \n",
       "4                            0                        0   \n",
       "\n",
       "   MUNCHENB_pleasant_weather  OSLO_pleasant_weather  \\\n",
       "0                          0                      0   \n",
       "1                          0                      0   \n",
       "2                          0                      0   \n",
       "3                          0                      0   \n",
       "4                          0                      0   \n",
       "\n",
       "   SONNBLICK_pleasant_weather  STOCKHOLM_pleasant_weather  \\\n",
       "0                           0                           0   \n",
       "1                           0                           0   \n",
       "2                           0                           0   \n",
       "3                           0                           0   \n",
       "4                           0                           0   \n",
       "\n",
       "   VALENTIA_pleasant_weather  \n",
       "0                          0  \n",
       "1                          0  \n",
       "2                          0  \n",
       "3                          0  \n",
       "4                          0  "
      ]
     },
     "execution_count": 37,
     "metadata": {},
     "output_type": "execute_result"
    }
   ],
   "source": [
    "answers.head()"
   ]
  },
  {
   "cell_type": "code",
   "execution_count": 46,
   "id": "64312857-b2b4-4b82-978c-5df3f21ea83c",
   "metadata": {},
   "outputs": [],
   "source": [
    "# Exporting the datasets as they'll be needed in a future exercise\n",
    "unscaled_c.to_csv('C:\\\\Users\\\\casbacar\\\\Documents\\\\Study\\\\Specialization\\\\Data sets\\\\unscaled_exercise_clean_2.2.csv')\n",
    "answers.to_csv('C:\\\\Users\\\\casbacar\\\\Documents\\\\Study\\\\Specialization\\\\Data sets\\\\pleasant_weather_answers_clean_2.2.csv')"
   ]
  },
  {
   "cell_type": "code",
   "execution_count": 26,
   "id": "8e798c59-e521-46f0-adea-0ce1a5e6933e",
   "metadata": {},
   "outputs": [],
   "source": [
    "X = unscaled_c\n",
    "y = answers"
   ]
  },
  {
   "cell_type": "code",
   "execution_count": 43,
   "id": "5661e917-c727-4e02-ba19-841342ce1516",
   "metadata": {},
   "outputs": [
    {
     "data": {
      "text/plain": [
       "(22950, 133)"
      ]
     },
     "execution_count": 43,
     "metadata": {},
     "output_type": "execute_result"
    }
   ],
   "source": []
  },
  {
   "cell_type": "code",
   "execution_count": 63,
   "id": "7dbffe3a-bd23-462e-8087-b7614b35fa69",
   "metadata": {},
   "outputs": [],
   "source": [
    "X = np.reshape(X, (-1, 15, 9))"
   ]
  },
  {
   "cell_type": "code",
   "execution_count": 64,
   "id": "0c4cc861-e8ed-486d-950c-d2de9c8c54d4",
   "metadata": {},
   "outputs": [
    {
     "data": {
      "text/plain": [
       "(22950, 15, 9)"
      ]
     },
     "execution_count": 64,
     "metadata": {},
     "output_type": "execute_result"
    }
   ],
   "source": [
    "X.shape"
   ]
  },
  {
   "cell_type": "code",
   "execution_count": 68,
   "id": "a58118c2-87bc-410e-8f50-2fb6af9c4901",
   "metadata": {},
   "outputs": [],
   "source": [
    "#Split data into training and testing sets.\n",
    "X_train, X_test, y_train, y_test = train_test_split(X,y,test_size=0.2)"
   ]
  },
  {
   "cell_type": "code",
   "execution_count": 69,
   "id": "d238b386-21cb-4c09-9338-b7ae787446e7",
   "metadata": {},
   "outputs": [
    {
     "name": "stdout",
     "output_type": "stream",
     "text": [
      "(18360, 15, 9) (18360, 15)\n",
      "(4590, 15, 9) (4590, 15)\n"
     ]
    }
   ],
   "source": [
    "print(X_train.shape, y_train.shape)\n",
    "print(X_test.shape, y_test.shape)"
   ]
  },
  {
   "cell_type": "code",
   "execution_count": 70,
   "id": "dcd1b34e-3e74-410d-8f37-66a8d03918df",
   "metadata": {},
   "outputs": [
    {
     "data": {
      "text/plain": [
       "15"
      ]
     },
     "execution_count": 70,
     "metadata": {},
     "output_type": "execute_result"
    }
   ],
   "source": [
    "len(X_train[0])"
   ]
  },
  {
   "cell_type": "code",
   "execution_count": 71,
   "id": "92e23cd8-0692-4b33-97d3-9e36a8858fc8",
   "metadata": {},
   "outputs": [
    {
     "data": {
      "text/plain": [
       "9"
      ]
     },
     "execution_count": 71,
     "metadata": {},
     "output_type": "execute_result"
    }
   ],
   "source": [
    "len(X_train[0][0])"
   ]
  },
  {
   "cell_type": "code",
   "execution_count": 74,
   "id": "88865dd3-b257-4618-96c2-160f15071bb5",
   "metadata": {},
   "outputs": [
    {
     "data": {
      "text/plain": [
       "array([1, 1, 1, 1, 0, 0, 0, 0, 0, 1, 1, 0, 0, 0, 0], dtype=int64)"
      ]
     },
     "execution_count": 74,
     "metadata": {},
     "output_type": "execute_result"
    }
   ],
   "source": [
    "y_train.values[0]"
   ]
  },
  {
   "cell_type": "code",
   "execution_count": 203,
   "id": "c0d25425-c805-4ed6-a20c-9fadaf4da229",
   "metadata": {},
   "outputs": [
    {
     "name": "stderr",
     "output_type": "stream",
     "text": [
      "C:\\Users\\casbacar\\AppData\\Local\\anaconda3\\Lib\\site-packages\\keras\\src\\layers\\rnn\\rnn.py:199: UserWarning: Do not pass an `input_shape`/`input_dim` argument to a layer. When using Sequential models, prefer using an `Input(shape)` object as the first layer in the model instead.\n",
      "  super().__init__(**kwargs)\n"
     ]
    }
   ],
   "source": [
    "epochs = 30\n",
    "batch_size = 30\n",
    "n_hidden = 128\n",
    "\n",
    "timesteps = len(X_train[0])\n",
    "input_dim = len(X_train[0][0])\n",
    "n_classes = len(y_train.values[0])\n",
    "\n",
    "model = Sequential()\n",
    "model.add(LSTM(n_hidden, input_shape=(timesteps, input_dim)))\n",
    "model.add(Dropout(0.5))\n",
    "model.add(Dense(n_classes, activation='sigmoid')) #Don't use relu here!"
   ]
  },
  {
   "cell_type": "code",
   "execution_count": 204,
   "id": "416e8174-292c-4b90-8a65-e56d9484a269",
   "metadata": {},
   "outputs": [],
   "source": [
    "model.compile(loss='categorical_crossentropy',\n",
    "              optimizer='rmsprop',\n",
    "              metrics=['accuracy'])"
   ]
  },
  {
   "cell_type": "code",
   "execution_count": 205,
   "id": "df49816e-2e09-4967-b67b-8543de1ae9d7",
   "metadata": {},
   "outputs": [
    {
     "name": "stdout",
     "output_type": "stream",
     "text": [
      "Epoch 1/30\n",
      "\u001b[1m612/612\u001b[0m \u001b[32m━━━━━━━━━━━━━━━━━━━━\u001b[0m\u001b[37m\u001b[0m \u001b[1m16s\u001b[0m 20ms/step - accuracy: 0.2465 - loss: 11.7693 - val_accuracy: 0.2673 - val_loss: 9.9620\n",
      "Epoch 2/30\n",
      "\u001b[1m612/612\u001b[0m \u001b[32m━━━━━━━━━━━━━━━━━━━━\u001b[0m\u001b[37m\u001b[0m \u001b[1m20s\u001b[0m 19ms/step - accuracy: 0.4717 - loss: 12.0622 - val_accuracy: 0.6447 - val_loss: 10.7201\n",
      "Epoch 3/30\n",
      "\u001b[1m612/612\u001b[0m \u001b[32m━━━━━━━━━━━━━━━━━━━━\u001b[0m\u001b[37m\u001b[0m \u001b[1m12s\u001b[0m 19ms/step - accuracy: 0.6423 - loss: 12.6827 - val_accuracy: 0.6468 - val_loss: 11.3511\n",
      "Epoch 4/30\n",
      "\u001b[1m612/612\u001b[0m \u001b[32m━━━━━━━━━━━━━━━━━━━━\u001b[0m\u001b[37m\u001b[0m \u001b[1m11s\u001b[0m 18ms/step - accuracy: 0.6423 - loss: 13.2618 - val_accuracy: 0.6479 - val_loss: 12.3383\n",
      "Epoch 5/30\n",
      "\u001b[1m612/612\u001b[0m \u001b[32m━━━━━━━━━━━━━━━━━━━━\u001b[0m\u001b[37m\u001b[0m \u001b[1m11s\u001b[0m 18ms/step - accuracy: 0.6419 - loss: 13.8845 - val_accuracy: 0.6479 - val_loss: 13.0813\n",
      "Epoch 6/30\n",
      "\u001b[1m612/612\u001b[0m \u001b[32m━━━━━━━━━━━━━━━━━━━━\u001b[0m\u001b[37m\u001b[0m \u001b[1m22s\u001b[0m 19ms/step - accuracy: 0.6423 - loss: 14.4477 - val_accuracy: 0.6486 - val_loss: 13.4236\n",
      "Epoch 7/30\n",
      "\u001b[1m612/612\u001b[0m \u001b[32m━━━━━━━━━━━━━━━━━━━━\u001b[0m\u001b[37m\u001b[0m \u001b[1m13s\u001b[0m 21ms/step - accuracy: 0.6423 - loss: 14.9414 - val_accuracy: 0.6479 - val_loss: 14.1570\n",
      "Epoch 8/30\n",
      "\u001b[1m612/612\u001b[0m \u001b[32m━━━━━━━━━━━━━━━━━━━━\u001b[0m\u001b[37m\u001b[0m \u001b[1m20s\u001b[0m 20ms/step - accuracy: 0.6425 - loss: 15.3949 - val_accuracy: 0.6475 - val_loss: 14.6119\n",
      "Epoch 9/30\n",
      "\u001b[1m612/612\u001b[0m \u001b[32m━━━━━━━━━━━━━━━━━━━━\u001b[0m\u001b[37m\u001b[0m \u001b[1m13s\u001b[0m 21ms/step - accuracy: 0.6422 - loss: 15.9676 - val_accuracy: 0.6484 - val_loss: 15.0122\n",
      "Epoch 10/30\n",
      "\u001b[1m612/612\u001b[0m \u001b[32m━━━━━━━━━━━━━━━━━━━━\u001b[0m\u001b[37m\u001b[0m \u001b[1m15s\u001b[0m 24ms/step - accuracy: 0.6420 - loss: 16.4657 - val_accuracy: 0.6479 - val_loss: 15.9978\n",
      "Epoch 11/30\n",
      "\u001b[1m612/612\u001b[0m \u001b[32m━━━━━━━━━━━━━━━━━━━━\u001b[0m\u001b[37m\u001b[0m \u001b[1m13s\u001b[0m 22ms/step - accuracy: 0.6425 - loss: 17.0989 - val_accuracy: 0.6477 - val_loss: 16.2272\n",
      "Epoch 12/30\n",
      "\u001b[1m612/612\u001b[0m \u001b[32m━━━━━━━━━━━━━━━━━━━━\u001b[0m\u001b[37m\u001b[0m \u001b[1m19s\u001b[0m 19ms/step - accuracy: 0.6422 - loss: 17.6632 - val_accuracy: 0.6479 - val_loss: 17.3038\n",
      "Epoch 13/30\n",
      "\u001b[1m612/612\u001b[0m \u001b[32m━━━━━━━━━━━━━━━━━━━━\u001b[0m\u001b[37m\u001b[0m \u001b[1m21s\u001b[0m 19ms/step - accuracy: 0.6423 - loss: 18.2282 - val_accuracy: 0.6481 - val_loss: 17.3787\n",
      "Epoch 14/30\n",
      "\u001b[1m612/612\u001b[0m \u001b[32m━━━━━━━━━━━━━━━━━━━━\u001b[0m\u001b[37m\u001b[0m \u001b[1m13s\u001b[0m 21ms/step - accuracy: 0.6424 - loss: 18.0413 - val_accuracy: 0.6484 - val_loss: 16.7610\n",
      "Epoch 15/30\n",
      "\u001b[1m612/612\u001b[0m \u001b[32m━━━━━━━━━━━━━━━━━━━━\u001b[0m\u001b[37m\u001b[0m \u001b[1m12s\u001b[0m 19ms/step - accuracy: 0.6424 - loss: 18.0409 - val_accuracy: 0.6479 - val_loss: 17.7173\n",
      "Epoch 16/30\n",
      "\u001b[1m612/612\u001b[0m \u001b[32m━━━━━━━━━━━━━━━━━━━━\u001b[0m\u001b[37m\u001b[0m \u001b[1m11s\u001b[0m 18ms/step - accuracy: 0.6424 - loss: 18.6327 - val_accuracy: 0.6477 - val_loss: 18.0918\n",
      "Epoch 17/30\n",
      "\u001b[1m612/612\u001b[0m \u001b[32m━━━━━━━━━━━━━━━━━━━━\u001b[0m\u001b[37m\u001b[0m \u001b[1m11s\u001b[0m 17ms/step - accuracy: 0.6424 - loss: 19.3109 - val_accuracy: 0.6479 - val_loss: 18.3426\n",
      "Epoch 18/30\n",
      "\u001b[1m612/612\u001b[0m \u001b[32m━━━━━━━━━━━━━━━━━━━━\u001b[0m\u001b[37m\u001b[0m \u001b[1m12s\u001b[0m 19ms/step - accuracy: 0.6423 - loss: 19.4587 - val_accuracy: 0.6479 - val_loss: 18.8650\n",
      "Epoch 19/30\n",
      "\u001b[1m612/612\u001b[0m \u001b[32m━━━━━━━━━━━━━━━━━━━━\u001b[0m\u001b[37m\u001b[0m \u001b[1m13s\u001b[0m 21ms/step - accuracy: 0.6421 - loss: 19.9961 - val_accuracy: 0.6479 - val_loss: 19.3734\n",
      "Epoch 20/30\n",
      "\u001b[1m612/612\u001b[0m \u001b[32m━━━━━━━━━━━━━━━━━━━━\u001b[0m\u001b[37m\u001b[0m \u001b[1m12s\u001b[0m 19ms/step - accuracy: 0.6424 - loss: 20.3631 - val_accuracy: 0.6484 - val_loss: 20.0611\n",
      "Epoch 21/30\n",
      "\u001b[1m612/612\u001b[0m \u001b[32m━━━━━━━━━━━━━━━━━━━━\u001b[0m\u001b[37m\u001b[0m \u001b[1m12s\u001b[0m 19ms/step - accuracy: 0.6422 - loss: 21.0061 - val_accuracy: 0.6481 - val_loss: 20.1944\n",
      "Epoch 22/30\n",
      "\u001b[1m612/612\u001b[0m \u001b[32m━━━━━━━━━━━━━━━━━━━━\u001b[0m\u001b[37m\u001b[0m \u001b[1m19s\u001b[0m 17ms/step - accuracy: 0.6423 - loss: 21.4619 - val_accuracy: 0.6479 - val_loss: 21.0321\n",
      "Epoch 23/30\n",
      "\u001b[1m612/612\u001b[0m \u001b[32m━━━━━━━━━━━━━━━━━━━━\u001b[0m\u001b[37m\u001b[0m \u001b[1m11s\u001b[0m 18ms/step - accuracy: 0.6422 - loss: 22.0794 - val_accuracy: 0.6479 - val_loss: 21.8407\n",
      "Epoch 24/30\n",
      "\u001b[1m612/612\u001b[0m \u001b[32m━━━━━━━━━━━━━━━━━━━━\u001b[0m\u001b[37m\u001b[0m \u001b[1m12s\u001b[0m 19ms/step - accuracy: 0.6423 - loss: 22.8420 - val_accuracy: 0.6481 - val_loss: 22.4877\n",
      "Epoch 25/30\n",
      "\u001b[1m612/612\u001b[0m \u001b[32m━━━━━━━━━━━━━━━━━━━━\u001b[0m\u001b[37m\u001b[0m \u001b[1m20s\u001b[0m 18ms/step - accuracy: 0.6422 - loss: 23.4671 - val_accuracy: 0.6477 - val_loss: 22.7970\n",
      "Epoch 26/30\n",
      "\u001b[1m612/612\u001b[0m \u001b[32m━━━━━━━━━━━━━━━━━━━━\u001b[0m\u001b[37m\u001b[0m \u001b[1m11s\u001b[0m 18ms/step - accuracy: 0.6423 - loss: 23.9037 - val_accuracy: 0.6479 - val_loss: 23.4081\n",
      "Epoch 27/30\n",
      "\u001b[1m612/612\u001b[0m \u001b[32m━━━━━━━━━━━━━━━━━━━━\u001b[0m\u001b[37m\u001b[0m \u001b[1m22s\u001b[0m 21ms/step - accuracy: 0.6423 - loss: 24.5301 - val_accuracy: 0.6481 - val_loss: 23.8818\n",
      "Epoch 28/30\n",
      "\u001b[1m612/612\u001b[0m \u001b[32m━━━━━━━━━━━━━━━━━━━━\u001b[0m\u001b[37m\u001b[0m \u001b[1m13s\u001b[0m 20ms/step - accuracy: 0.6423 - loss: 25.0930 - val_accuracy: 0.6479 - val_loss: 24.2529\n",
      "Epoch 29/30\n",
      "\u001b[1m612/612\u001b[0m \u001b[32m━━━━━━━━━━━━━━━━━━━━\u001b[0m\u001b[37m\u001b[0m \u001b[1m19s\u001b[0m 18ms/step - accuracy: 0.6422 - loss: 25.3825 - val_accuracy: 0.6481 - val_loss: 24.9697\n",
      "Epoch 30/30\n",
      "\u001b[1m612/612\u001b[0m \u001b[32m━━━━━━━━━━━━━━━━━━━━\u001b[0m\u001b[37m\u001b[0m \u001b[1m12s\u001b[0m 19ms/step - accuracy: 0.6423 - loss: 26.0936 - val_accuracy: 0.6481 - val_loss: 25.4287\n"
     ]
    },
    {
     "data": {
      "text/plain": [
       "<keras.src.callbacks.history.History at 0x20a4aa00380>"
      ]
     },
     "execution_count": 205,
     "metadata": {},
     "output_type": "execute_result"
    }
   ],
   "source": [
    "model.fit(X_train,\n",
    "          y_train,\n",
    "          batch_size=batch_size,\n",
    "          validation_data=(X_test, y_test),\n",
    "          epochs=epochs)"
   ]
  },
  {
   "cell_type": "code",
   "execution_count": 206,
   "id": "4e65f8a7-559d-4da1-9e52-27380fa40b3b",
   "metadata": {},
   "outputs": [],
   "source": [
    "def confusion_matrix(y_true, y_pred):\n",
    "    y_true = pd.Series([weather_labels[y] for y in np.argmax(y_true, axis=1)])\n",
    "    y_pred = pd.Series([weather_labels[y] for y in np.argmax(y_pred, axis=1)])\n",
    "\n",
    "    return pd.crosstab(y_true, y_pred, rownames=['True'], colnames=['Pred'])"
   ]
  },
  {
   "cell_type": "code",
   "execution_count": 207,
   "id": "7e3a2d2e-5fa8-4295-a7ab-37439e296927",
   "metadata": {},
   "outputs": [
    {
     "name": "stdout",
     "output_type": "stream",
     "text": [
      "\u001b[1m144/144\u001b[0m \u001b[32m━━━━━━━━━━━━━━━━━━━━\u001b[0m\u001b[37m\u001b[0m \u001b[1m2s\u001b[0m 12ms/step\n",
      "Pred                         BASEL_pleasant_weather  MADRID_pleasant_weather\n",
      "True                                                                        \n",
      "BASEL_pleasant_weather                         2974                        0\n",
      "BELGRADE_pleasant_weather                       862                        0\n",
      "BUDAPEST_pleasant_weather                       161                        0\n",
      "DEBILT_pleasant_weather                          69                        0\n",
      "DUSSELDORF_pleasant_weather                      26                        0\n",
      "HEATHROW_pleasant_weather                        77                        0\n",
      "KASSEL_pleasant_weather                          11                        0\n",
      "LJUBLJANA_pleasant_weather                       47                        0\n",
      "MAASTRICHT_pleasant_weather                       3                        0\n",
      "MADRID_pleasant_weather                         342                        1\n",
      "MUNCHENB_pleasant_weather                         9                        0\n",
      "OSLO_pleasant_weather                             3                        0\n",
      "STOCKHOLM_pleasant_weather                        3                        0\n",
      "VALENTIA_pleasant_weather                         2                        0\n"
     ]
    }
   ],
   "source": [
    "# Evaluate\n",
    "print(confusion_matrix(y_test, model.predict(X_test)))"
   ]
  },
  {
   "cell_type": "code",
   "execution_count": null,
   "id": "99b6769e-7275-4167-a8f1-6f07ecf362cc",
   "metadata": {},
   "outputs": [],
   "source": []
  },
  {
   "cell_type": "code",
   "execution_count": null,
   "id": "d50dcc37-68e7-42f7-b2fe-7969c54cc781",
   "metadata": {},
   "outputs": [],
   "source": []
  },
  {
   "cell_type": "code",
   "execution_count": null,
   "id": "52ae1066-477f-48d5-b5ba-d745b592f49f",
   "metadata": {},
   "outputs": [],
   "source": []
  }
 ],
 "metadata": {
  "kernelspec": {
   "display_name": "Python 3 (ipykernel)",
   "language": "python",
   "name": "python3"
  },
  "language_info": {
   "codemirror_mode": {
    "name": "ipython",
    "version": 3
   },
   "file_extension": ".py",
   "mimetype": "text/x-python",
   "name": "python",
   "nbconvert_exporter": "python",
   "pygments_lexer": "ipython3",
   "version": "3.12.7"
  }
 },
 "nbformat": 4,
 "nbformat_minor": 5
}
